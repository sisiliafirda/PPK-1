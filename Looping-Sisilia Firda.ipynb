{
 "cells": [
  {
   "cell_type": "code",
   "execution_count": 7,
   "id": "20c41234-1d98-4f74-a507-debde18d05da",
   "metadata": {},
   "outputs": [
    {
     "name": "stdin",
     "output_type": "stream",
     "text": [
      "Jika user memasukkan N=  3\n"
     ]
    },
    {
     "name": "stdout",
     "output_type": "stream",
     "text": [
      "Bilangan genap ke-  1  : 0\n",
      "Bilangan genap ke-  2  : 2\n",
      "Bilangan genap ke-  3  : 4\n",
      "Total=  3\n"
     ]
    }
   ],
   "source": [
    "S=int(input(\"Jika user memasukkan N= \"))\n",
    "angka=0\n",
    "t=0\n",
    "u=0\n",
    "for i in range (0,S*2,2):\n",
    "    angka=angka+1\n",
    "    t=t+1\n",
    "    u=u+1\n",
    "    print(\"Bilangan genap ke- \",t,\" :\",i)\n",
    "print(\"Total= \",u)"
   ]
  },
  {
   "cell_type": "code",
   "execution_count": 5,
   "id": "598e1d00-61e6-47ba-89a8-7a2a58bbb9bc",
   "metadata": {},
   "outputs": [
    {
     "name": "stdin",
     "output_type": "stream",
     "text": [
      "masukkan angka:  2\n"
     ]
    },
    {
     "name": "stdout",
     "output_type": "stream",
     "text": [
      "deret bilangan kuadrat: \n",
      "1 4 hasil penjumlahan kuadrat:  5\n"
     ]
    }
   ],
   "source": [
    "i, N, jum =1,0,0\n",
    "N=int(input(\"masukkan angka: \"))\n",
    "print(\"deret bilangan kuadrat: \")\n",
    "while True:\n",
    "    jum += i*i\n",
    "    print(i*i, end=' ')\n",
    "    i += 1\n",
    "    if i> N:\n",
    "        break\n",
    "print(\"hasil penjumlahan kuadrat: \",jum)"
   ]
  },
  {
   "cell_type": "code",
   "execution_count": 6,
   "id": "7b7d5320-16c8-42d0-8ac8-51d8e833bad6",
   "metadata": {},
   "outputs": [
    {
     "name": "stdin",
     "output_type": "stream",
     "text": [
      "masukkan angka:  6\n"
     ]
    },
    {
     "name": "stdout",
     "output_type": "stream",
     "text": [
      "deret bilangan kuadrat: \n",
      "1 4 9 16 25 36 hasil penjumlahan kuadrat:  91\n"
     ]
    }
   ],
   "source": [
    "i, N, jum =1,0,0\n",
    "N=int(input(\"masukkan angka: \"))\n",
    "print(\"deret bilangan kuadrat: \")\n",
    "while True:\n",
    "    jum += i*i\n",
    "    print(i*i, end=' ')\n",
    "    i += 1\n",
    "    if i> N:\n",
    "        break\n",
    "print(\"hasil penjumlahan kuadrat: \",jum)"
   ]
  },
  {
   "cell_type": "code",
   "execution_count": 3,
   "id": "85f5081e-577f-4b88-88aa-9cb41b57fd73",
   "metadata": {},
   "outputs": [
    {
     "name": "stdin",
     "output_type": "stream",
     "text": [
      "Masukkan N :  22354\n"
     ]
    },
    {
     "name": "stdout",
     "output_type": "stream",
     "text": [
      "jumlah digit yang ganjil:  2\n"
     ]
    }
   ],
   "source": [
    "N = input(\"Masukkan N : \")\n",
    "ganjil=0\n",
    "g=' '\n",
    "for i in N:\n",
    "    if i in'13579':\n",
    "        ganjil += 1\n",
    "        g = g+i+''\n",
    "print(\"jumlah digit yang ganjil: \",ganjil)"
   ]
  },
  {
   "cell_type": "code",
   "execution_count": 4,
   "id": "9115973b-2984-44a6-b96a-8a9d54f24c88",
   "metadata": {},
   "outputs": [
    {
     "name": "stdin",
     "output_type": "stream",
     "text": [
      "Masukkan N :  3454322\n"
     ]
    },
    {
     "name": "stdout",
     "output_type": "stream",
     "text": [
      "jumlah digit yang ganjil:  3\n"
     ]
    }
   ],
   "source": [
    "N = input(\"Masukkan N : \")\n",
    "ganjil=0\n",
    "g=' '\n",
    "for i in N:\n",
    "    if i in'13579':\n",
    "        ganjil += 1\n",
    "        g = g+i+''\n",
    "print(\"jumlah digit yang ganjil: \",ganjil)"
   ]
  }
 ],
 "metadata": {
  "kernelspec": {
   "display_name": "Python 3 (ipykernel)",
   "language": "python",
   "name": "python3"
  },
  "language_info": {
   "codemirror_mode": {
    "name": "ipython",
    "version": 3
   },
   "file_extension": ".py",
   "mimetype": "text/x-python",
   "name": "python",
   "nbconvert_exporter": "python",
   "pygments_lexer": "ipython3",
   "version": "3.9.7"
  }
 },
 "nbformat": 4,
 "nbformat_minor": 5
}

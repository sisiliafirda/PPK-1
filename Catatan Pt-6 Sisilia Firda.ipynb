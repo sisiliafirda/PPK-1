{
 "cells": [
  {
   "cell_type": "markdown",
   "id": "4e130a0c-9461-4076-92ea-33cfc248a11b",
   "metadata": {},
   "source": [
    "# Chapter 5"
   ]
  },
  {
   "cell_type": "markdown",
   "id": "53dd8c5a-8086-4b77-b1e2-cb93025ec16e",
   "metadata": {},
   "source": [
    "### 5.1 Pendahuluan"
   ]
  },
  {
   "cell_type": "code",
   "execution_count": 1,
   "id": "11fc3466-c47e-4693-ba7d-90d4aee244d0",
   "metadata": {},
   "outputs": [
    {
     "data": {
      "text/plain": [
       "array([[ 0,  1,  2,  3,  4],\n",
       "       [ 5,  6,  7,  8,  9],\n",
       "       [10, 11, 12, 13, 14]])"
      ]
     },
     "execution_count": 1,
     "metadata": {},
     "output_type": "execute_result"
    }
   ],
   "source": [
    "import numpy as np\n",
    "a=np.arange(15).reshape(3,5)\n",
    "a"
   ]
  },
  {
   "cell_type": "code",
   "execution_count": 3,
   "id": "96502d23-2a12-406a-86de-142c0674b5dc",
   "metadata": {},
   "outputs": [
    {
     "data": {
      "text/plain": [
       "(3, 5)"
      ]
     },
     "execution_count": 3,
     "metadata": {},
     "output_type": "execute_result"
    }
   ],
   "source": [
    "a. shape"
   ]
  },
  {
   "cell_type": "code",
   "execution_count": 4,
   "id": "01077a11-7987-46dd-b6fb-e009e45ef9d9",
   "metadata": {},
   "outputs": [
    {
     "data": {
      "text/plain": [
       "2"
      ]
     },
     "execution_count": 4,
     "metadata": {},
     "output_type": "execute_result"
    }
   ],
   "source": [
    "a.ndim"
   ]
  },
  {
   "cell_type": "code",
   "execution_count": 5,
   "id": "9cf147bd-84a4-4437-b8ef-b7e13b69fad3",
   "metadata": {},
   "outputs": [
    {
     "data": {
      "text/plain": [
       "4"
      ]
     },
     "execution_count": 5,
     "metadata": {},
     "output_type": "execute_result"
    }
   ],
   "source": [
    "a.itemsize"
   ]
  },
  {
   "cell_type": "code",
   "execution_count": 6,
   "id": "41c6b5dc-671a-4fcd-9bd3-6914ff200ab1",
   "metadata": {},
   "outputs": [
    {
     "data": {
      "text/plain": [
       "15"
      ]
     },
     "execution_count": 6,
     "metadata": {},
     "output_type": "execute_result"
    }
   ],
   "source": [
    "a.size"
   ]
  },
  {
   "cell_type": "code",
   "execution_count": 7,
   "id": "d392809a-d7cc-48b1-ab5a-f79f693bca31",
   "metadata": {},
   "outputs": [
    {
     "data": {
      "text/plain": [
       "numpy.ndarray"
      ]
     },
     "execution_count": 7,
     "metadata": {},
     "output_type": "execute_result"
    }
   ],
   "source": [
    "type(a)"
   ]
  },
  {
   "cell_type": "code",
   "execution_count": 9,
   "id": "4b557fa9-3512-4e17-b1ba-14831ec06dd9",
   "metadata": {},
   "outputs": [
    {
     "data": {
      "text/plain": [
       "array([6, 7, 8])"
      ]
     },
     "execution_count": 9,
     "metadata": {},
     "output_type": "execute_result"
    }
   ],
   "source": [
    "b=np.array([6,7,8])\n",
    "b"
   ]
  },
  {
   "cell_type": "code",
   "execution_count": 10,
   "id": "fe25c458-5e0c-4008-8a6f-481152182c96",
   "metadata": {},
   "outputs": [
    {
     "data": {
      "text/plain": [
       "numpy.ndarray"
      ]
     },
     "execution_count": 10,
     "metadata": {},
     "output_type": "execute_result"
    }
   ],
   "source": [
    "type(b)"
   ]
  },
  {
   "cell_type": "markdown",
   "id": "b203a19a-66d3-44c8-917d-0c4b632ee30f",
   "metadata": {},
   "source": [
    "### 5.2 Membuat Array"
   ]
  },
  {
   "cell_type": "code",
   "execution_count": 11,
   "id": "6568b946-b53c-45d6-9ba4-6086d999f7e3",
   "metadata": {},
   "outputs": [
    {
     "data": {
      "text/plain": [
       "array([2, 3, 4])"
      ]
     },
     "execution_count": 11,
     "metadata": {},
     "output_type": "execute_result"
    }
   ],
   "source": [
    "import numpy as np\n",
    "a=np.array([2,3,4])\n",
    "a"
   ]
  },
  {
   "cell_type": "code",
   "execution_count": 12,
   "id": "62f374de-09c4-464a-855f-7603decd799b",
   "metadata": {},
   "outputs": [
    {
     "data": {
      "text/plain": [
       "dtype('int32')"
      ]
     },
     "execution_count": 12,
     "metadata": {},
     "output_type": "execute_result"
    }
   ],
   "source": [
    "a.dtype"
   ]
  },
  {
   "cell_type": "code",
   "execution_count": 13,
   "id": "b73a24c5-6ef5-468a-8b58-a74c9f3c72de",
   "metadata": {},
   "outputs": [
    {
     "data": {
      "text/plain": [
       "dtype('float64')"
      ]
     },
     "execution_count": 13,
     "metadata": {},
     "output_type": "execute_result"
    }
   ],
   "source": [
    "b=np.array ([1.2,3.5,5.1])\n",
    "b.dtype"
   ]
  },
  {
   "cell_type": "code",
   "execution_count": 14,
   "id": "2c5f2946-250a-4d43-8dfd-81724c79dd87",
   "metadata": {},
   "outputs": [
    {
     "data": {
      "text/plain": [
       "array([[1.5, 2. , 3. ],\n",
       "       [4. , 5. , 6. ]])"
      ]
     },
     "execution_count": 14,
     "metadata": {},
     "output_type": "execute_result"
    }
   ],
   "source": [
    "b=np.array([(1.5,2,3),(4,5,6)])\n",
    "b"
   ]
  },
  {
   "cell_type": "code",
   "execution_count": 15,
   "id": "72c73aff-d028-4d46-bd44-efc79eeb1a82",
   "metadata": {},
   "outputs": [
    {
     "data": {
      "text/plain": [
       "array([[1.+0.j, 2.+0.j],\n",
       "       [3.+0.j, 4.+0.j]])"
      ]
     },
     "execution_count": 15,
     "metadata": {},
     "output_type": "execute_result"
    }
   ],
   "source": [
    "c=np.array([[1,2],[3,4] ], dtype=complex)\n",
    "c"
   ]
  },
  {
   "cell_type": "code",
   "execution_count": 16,
   "id": "a8eb6e17-04c5-4c6e-9301-60e9e6c969b9",
   "metadata": {},
   "outputs": [
    {
     "data": {
      "text/plain": [
       "array([[0., 0., 0., 0.],\n",
       "       [0., 0., 0., 0.],\n",
       "       [0., 0., 0., 0.]])"
      ]
     },
     "execution_count": 16,
     "metadata": {},
     "output_type": "execute_result"
    }
   ],
   "source": [
    "np. zeros ( (3,4) )"
   ]
  },
  {
   "cell_type": "code",
   "execution_count": 17,
   "id": "dd662de6-9ac9-4ef9-a305-3d2c0a7c7713",
   "metadata": {},
   "outputs": [
    {
     "data": {
      "text/plain": [
       "array([[[1, 1, 1, 1],\n",
       "        [1, 1, 1, 1],\n",
       "        [1, 1, 1, 1]],\n",
       "\n",
       "       [[1, 1, 1, 1],\n",
       "        [1, 1, 1, 1],\n",
       "        [1, 1, 1, 1]]], dtype=int16)"
      ]
     },
     "execution_count": 17,
     "metadata": {},
     "output_type": "execute_result"
    }
   ],
   "source": [
    "np. ones ( (2,3,4) , dtype=np.int16) # dtype can also be specified"
   ]
  },
  {
   "cell_type": "code",
   "execution_count": 18,
   "id": "7b48277d-1bdf-4532-aa90-6290d0cd57c1",
   "metadata": {},
   "outputs": [
    {
     "data": {
      "text/plain": [
       "array([[1.5, 2. , 3. ],\n",
       "       [4. , 5. , 6. ]])"
      ]
     },
     "execution_count": 18,
     "metadata": {},
     "output_type": "execute_result"
    }
   ],
   "source": [
    "np. empty((2,3)) #uninitialized, output may vary"
   ]
  },
  {
   "cell_type": "code",
   "execution_count": 19,
   "id": "df587d26-35f2-4221-9467-c44e5619e944",
   "metadata": {},
   "outputs": [
    {
     "data": {
      "text/plain": [
       "array([10, 15, 20, 25])"
      ]
     },
     "execution_count": 19,
     "metadata": {},
     "output_type": "execute_result"
    }
   ],
   "source": [
    "np. arange (10,30,5)"
   ]
  },
  {
   "cell_type": "code",
   "execution_count": 22,
   "id": "a76f7de8-24b7-4d87-a3ad-860203651dc8",
   "metadata": {},
   "outputs": [
    {
     "data": {
      "text/plain": [
       "array([0. , 0.3, 0.6, 0.9, 1.2, 1.5, 1.8])"
      ]
     },
     "execution_count": 22,
     "metadata": {},
     "output_type": "execute_result"
    }
   ],
   "source": [
    "np. arange (0 ,2 ,0.3) # it accepts float arguments"
   ]
  },
  {
   "cell_type": "code",
   "execution_count": 25,
   "id": "3942b858-a7fd-45ae-a1d3-566c2c20c807",
   "metadata": {},
   "outputs": [
    {
     "data": {
      "text/plain": [
       "array([0.  , 0.25, 0.5 , 0.75, 1.  , 1.25, 1.5 , 1.75, 2.  ])"
      ]
     },
     "execution_count": 25,
     "metadata": {},
     "output_type": "execute_result"
    }
   ],
   "source": [
    "from numpy import pi\n",
    "np. linspace (0 ,2 ,9) #9 numbers from 0 to 2"
   ]
  },
  {
   "cell_type": "code",
   "execution_count": 26,
   "id": "0b265dc4-8378-450d-a7b5-8c3d64df6336",
   "metadata": {},
   "outputs": [],
   "source": [
    "x=np.linspace (0 ,2*pi, 100) #useful to evaluate function at lots of points\n",
    "f=np.sin(x)"
   ]
  },
  {
   "cell_type": "markdown",
   "id": "336f5dbf-a673-4ab2-ba19-30286820c475",
   "metadata": {},
   "source": [
    "### 5.3 Menampilkan Array"
   ]
  },
  {
   "cell_type": "code",
   "execution_count": 27,
   "id": "35aa4034-8029-41f4-8e51-71f814b6eabf",
   "metadata": {},
   "outputs": [
    {
     "name": "stdout",
     "output_type": "stream",
     "text": [
      "[0 1 2 3 4 5]\n"
     ]
    }
   ],
   "source": [
    "a=np.arange(6) #1d array\n",
    "print (a)"
   ]
  },
  {
   "cell_type": "code",
   "execution_count": 29,
   "id": "508c7724-c671-4e4c-8173-cad5265f97fd",
   "metadata": {},
   "outputs": [
    {
     "name": "stdout",
     "output_type": "stream",
     "text": [
      "[[ 0  1  2]\n",
      " [ 3  4  5]\n",
      " [ 6  7  8]\n",
      " [ 9 10 11]]\n"
     ]
    }
   ],
   "source": [
    "b=np. arange (12).reshape (4,3) #2d array\n",
    "print(b)"
   ]
  },
  {
   "cell_type": "code",
   "execution_count": 30,
   "id": "81a2eefb-a82d-4510-a8bb-722305eb6cf8",
   "metadata": {},
   "outputs": [
    {
     "name": "stdout",
     "output_type": "stream",
     "text": [
      "[   0    1    2 ... 9997 9998 9999]\n"
     ]
    }
   ],
   "source": [
    "print (np. arange (10000))"
   ]
  },
  {
   "cell_type": "code",
   "execution_count": 31,
   "id": "776e6f1c-5f17-4e23-8cc1-e36798f27991",
   "metadata": {},
   "outputs": [
    {
     "name": "stdout",
     "output_type": "stream",
     "text": [
      "[[   0    1    2 ...   97   98   99]\n",
      " [ 100  101  102 ...  197  198  199]\n",
      " [ 200  201  202 ...  297  298  299]\n",
      " ...\n",
      " [9700 9701 9702 ... 9797 9798 9799]\n",
      " [9800 9801 9802 ... 9897 9898 9899]\n",
      " [9900 9901 9902 ... 9997 9998 9999]]\n"
     ]
    }
   ],
   "source": [
    "print (np. arange (10000). reshape (100,100))"
   ]
  },
  {
   "cell_type": "code",
   "execution_count": 32,
   "id": "a8623aa3-a15e-4069-9840-097da8e21e83",
   "metadata": {},
   "outputs": [],
   "source": [
    "np. set_printoptions ( threshold = 3)"
   ]
  }
 ],
 "metadata": {
  "kernelspec": {
   "display_name": "Python 3 (ipykernel)",
   "language": "python",
   "name": "python3"
  },
  "language_info": {
   "codemirror_mode": {
    "name": "ipython",
    "version": 3
   },
   "file_extension": ".py",
   "mimetype": "text/x-python",
   "name": "python",
   "nbconvert_exporter": "python",
   "pygments_lexer": "ipython3",
   "version": "3.9.7"
  }
 },
 "nbformat": 4,
 "nbformat_minor": 5
}

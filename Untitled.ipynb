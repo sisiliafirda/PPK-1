{
 "cells": [
  {
   "cell_type": "markdown",
   "id": "c40414ed-1ef1-4033-ba96-ddd5e073dba9",
   "metadata": {
    "tags": []
   },
   "source": [
    "# Tipe Numerik"
   ]
  },
  {
   "cell_type": "markdown",
   "id": "4b57dbee-f8c3-4a95-ba2c-42890d20a6db",
   "metadata": {},
   "source": [
    "## 1. Bilangan Bulat"
   ]
  },
  {
   "cell_type": "markdown",
   "id": "e0bfc8ed-18f7-421e-818b-5b5770239cbd",
   "metadata": {},
   "source": [
    "### Algorithm 2.1 str()"
   ]
  },
  {
   "cell_type": "code",
   "execution_count": 7,
   "id": "4268f2b4-2139-481d-9bf7-30f8924d43f8",
   "metadata": {},
   "outputs": [
    {
     "data": {
      "text/plain": [
       "int"
      ]
     },
     "execution_count": 7,
     "metadata": {},
     "output_type": "execute_result"
    }
   ],
   "source": [
    "a=12345\n",
    "type(a)"
   ]
  },
  {
   "cell_type": "code",
   "execution_count": 8,
   "id": "825f2be8-9371-4471-b773-a5f678708a7f",
   "metadata": {},
   "outputs": [
    {
     "data": {
      "text/plain": [
       "str"
      ]
     },
     "execution_count": 8,
     "metadata": {},
     "output_type": "execute_result"
    }
   ],
   "source": [
    "b=str(a)\n",
    "b'12345'\n",
    "type(b)"
   ]
  },
  {
   "cell_type": "markdown",
   "id": "4fe042fa-c5ed-4a38-89d3-3e1abc06a4cf",
   "metadata": {},
   "source": [
    "### Algorithm 2.2 int()"
   ]
  },
  {
   "cell_type": "code",
   "execution_count": 9,
   "id": "c5c74c08-1ca9-4930-9b46-236afe5a0ab9",
   "metadata": {},
   "outputs": [
    {
     "data": {
      "text/plain": [
       "str"
      ]
     },
     "execution_count": 9,
     "metadata": {},
     "output_type": "execute_result"
    }
   ],
   "source": [
    "a='12345'\n",
    "type(a)"
   ]
  },
  {
   "cell_type": "code",
   "execution_count": 10,
   "id": "1e1feff2-3624-468b-84a5-eb0e7e6b3ecf",
   "metadata": {},
   "outputs": [
    {
     "data": {
      "text/plain": [
       "int"
      ]
     },
     "execution_count": 10,
     "metadata": {},
     "output_type": "execute_result"
    }
   ],
   "source": [
    "b=int(a)\n",
    "b=12345\n",
    "type(b)"
   ]
  },
  {
   "cell_type": "markdown",
   "id": "07dc0b0a-c0b1-4e14-a845-85cd3ceb70a7",
   "metadata": {},
   "source": [
    "### Algorithm 2.3"
   ]
  },
  {
   "cell_type": "code",
   "execution_count": 11,
   "id": "7e6225a6-cd2b-4bf3-ba81-464ebcfd37af",
   "metadata": {},
   "outputs": [
    {
     "data": {
      "text/plain": [
       "1"
      ]
     },
     "execution_count": 11,
     "metadata": {},
     "output_type": "execute_result"
    }
   ],
   "source": [
    "int(True)"
   ]
  },
  {
   "cell_type": "code",
   "execution_count": 12,
   "id": "90694dbf-8921-4741-b9b4-b1cb0aa6d28b",
   "metadata": {},
   "outputs": [
    {
     "data": {
      "text/plain": [
       "0"
      ]
     },
     "execution_count": 12,
     "metadata": {},
     "output_type": "execute_result"
    }
   ],
   "source": [
    "int(False)"
   ]
  },
  {
   "cell_type": "code",
   "execution_count": 13,
   "id": "8d0af6af-c921-4b1b-b7e5-f4764672e345",
   "metadata": {},
   "outputs": [
    {
     "data": {
      "text/plain": [
       "bool"
      ]
     },
     "execution_count": 13,
     "metadata": {},
     "output_type": "execute_result"
    }
   ],
   "source": [
    "a=True\n",
    "type(a)"
   ]
  },
  {
   "cell_type": "code",
   "execution_count": 14,
   "id": "d8c74790-bc95-4ee6-88d8-df412ca26641",
   "metadata": {},
   "outputs": [
    {
     "data": {
      "text/plain": [
       "1"
      ]
     },
     "execution_count": 14,
     "metadata": {},
     "output_type": "execute_result"
    }
   ],
   "source": [
    "int(a)"
   ]
  },
  {
   "cell_type": "markdown",
   "id": "f7d64aea-b419-4fd9-a220-b6434d98e570",
   "metadata": {},
   "source": [
    "## 2. Bilangan Riil"
   ]
  },
  {
   "cell_type": "markdown",
   "id": "292d29c6-a428-49d1-97ff-34a44f890565",
   "metadata": {},
   "source": [
    "### Algorithm 2.4 "
   ]
  },
  {
   "cell_type": "code",
   "execution_count": 15,
   "id": "e13d3fde-9287-4cb7-98a2-8fdf1e49d2ec",
   "metadata": {},
   "outputs": [
    {
     "data": {
      "text/plain": [
       "123.456"
      ]
     },
     "execution_count": 15,
     "metadata": {},
     "output_type": "execute_result"
    }
   ],
   "source": [
    "a=123.456\n",
    "a"
   ]
  },
  {
   "cell_type": "code",
   "execution_count": 16,
   "id": "1d5e0a55-c7ae-44f1-8ae8-ad677794b4d5",
   "metadata": {},
   "outputs": [
    {
     "data": {
      "text/plain": [
       "float"
      ]
     },
     "execution_count": 16,
     "metadata": {},
     "output_type": "execute_result"
    }
   ],
   "source": [
    "type(a)"
   ]
  },
  {
   "cell_type": "code",
   "execution_count": 17,
   "id": "062bcb4b-7c4b-4eca-a1f1-52606a596111",
   "metadata": {},
   "outputs": [
    {
     "data": {
      "text/plain": [
       "246.912"
      ]
     },
     "execution_count": 17,
     "metadata": {},
     "output_type": "execute_result"
    }
   ],
   "source": [
    "a*2"
   ]
  },
  {
   "cell_type": "markdown",
   "id": "dc90aa0f-883d-4823-99b7-e84d51852b0e",
   "metadata": {},
   "source": [
    "### Algorithm 2.5"
   ]
  },
  {
   "cell_type": "code",
   "execution_count": 18,
   "id": "cbbfc9f1-0414-4e35-b853-b0f95d20a1ca",
   "metadata": {},
   "outputs": [
    {
     "data": {
      "text/plain": [
       "0.00089"
      ]
     },
     "execution_count": 18,
     "metadata": {},
     "output_type": "execute_result"
    }
   ],
   "source": [
    "a=8.9e-4\n",
    "a"
   ]
  },
  {
   "cell_type": "markdown",
   "id": "20239aae-7218-4c07-b2df-f8805761397f",
   "metadata": {},
   "source": [
    "### Algorithm 2.6"
   ]
  },
  {
   "cell_type": "code",
   "execution_count": 19,
   "id": "b43097ce-bc97-4a33-b152-8abfde01b6e0",
   "metadata": {},
   "outputs": [
    {
     "data": {
      "text/plain": [
       "float"
      ]
     },
     "execution_count": 19,
     "metadata": {},
     "output_type": "execute_result"
    }
   ],
   "source": [
    "a=123.456\n",
    "type(a)"
   ]
  },
  {
   "cell_type": "code",
   "execution_count": 20,
   "id": "5020c90c-75e8-4878-b99e-62855718d7f3",
   "metadata": {},
   "outputs": [
    {
     "data": {
      "text/plain": [
       "'123.456'"
      ]
     },
     "execution_count": 20,
     "metadata": {},
     "output_type": "execute_result"
    }
   ],
   "source": [
    "b=str(a)\n",
    "b"
   ]
  },
  {
   "cell_type": "code",
   "execution_count": 21,
   "id": "94aa6824-c927-4faa-b314-783d3f2a63f1",
   "metadata": {},
   "outputs": [
    {
     "data": {
      "text/plain": [
       "str"
      ]
     },
     "execution_count": 21,
     "metadata": {},
     "output_type": "execute_result"
    }
   ],
   "source": [
    "type(b)"
   ]
  },
  {
   "cell_type": "code",
   "execution_count": 22,
   "id": "08aa2ee7-31d7-4fc4-87c5-8f997e75c05c",
   "metadata": {},
   "outputs": [
    {
     "data": {
      "text/plain": [
       "123.456"
      ]
     },
     "execution_count": 22,
     "metadata": {},
     "output_type": "execute_result"
    }
   ],
   "source": [
    "c=float(b)\n",
    "c"
   ]
  },
  {
   "cell_type": "code",
   "execution_count": 23,
   "id": "1b5fc89b-e4af-4c6e-9587-d47c59334a2f",
   "metadata": {},
   "outputs": [
    {
     "data": {
      "text/plain": [
       "float"
      ]
     },
     "execution_count": 23,
     "metadata": {},
     "output_type": "execute_result"
    }
   ],
   "source": [
    "type(c)"
   ]
  },
  {
   "cell_type": "markdown",
   "id": "23c7ecd4-9f63-4bf8-a375-0d6fa7c2f9f2",
   "metadata": {},
   "source": [
    "## 3. Bilangan Kompleks"
   ]
  },
  {
   "cell_type": "markdown",
   "id": "8cdcb01c-2a9f-4b6b-bbf8-903b4a9bea2f",
   "metadata": {},
   "source": [
    "### Algorithm 2.7"
   ]
  },
  {
   "cell_type": "code",
   "execution_count": 24,
   "id": "6b39540b-adb6-49be-9f76-9cb51eaf9f5b",
   "metadata": {},
   "outputs": [
    {
     "data": {
      "text/plain": [
       "(-9+17j)"
      ]
     },
     "execution_count": 24,
     "metadata": {},
     "output_type": "execute_result"
    }
   ],
   "source": [
    "a=-9+17j\n",
    "a"
   ]
  },
  {
   "cell_type": "code",
   "execution_count": 25,
   "id": "ba31c9e5-4fdf-4734-be27-728632fe7d47",
   "metadata": {},
   "outputs": [
    {
     "data": {
      "text/plain": [
       "complex"
      ]
     },
     "execution_count": 25,
     "metadata": {},
     "output_type": "execute_result"
    }
   ],
   "source": [
    "type(a)"
   ]
  },
  {
   "cell_type": "code",
   "execution_count": 26,
   "id": "2b41d806-be3d-4f4d-9eca-f1973e63c40e",
   "metadata": {},
   "outputs": [
    {
     "data": {
      "text/plain": [
       "-9.0"
      ]
     },
     "execution_count": 26,
     "metadata": {},
     "output_type": "execute_result"
    }
   ],
   "source": [
    "a.real"
   ]
  },
  {
   "cell_type": "code",
   "execution_count": 27,
   "id": "949e2c50-6cba-47f0-b89e-92734d54cee1",
   "metadata": {},
   "outputs": [
    {
     "data": {
      "text/plain": [
       "17.0"
      ]
     },
     "execution_count": 27,
     "metadata": {},
     "output_type": "execute_result"
    }
   ],
   "source": [
    "a.imag"
   ]
  },
  {
   "cell_type": "markdown",
   "id": "01e7790e-adca-41cb-9601-9f22b65aaf3c",
   "metadata": {},
   "source": [
    "# Tipe String"
   ]
  },
  {
   "cell_type": "markdown",
   "id": "88b86910-12d1-498d-ac9c-81bc22dad935",
   "metadata": {},
   "source": [
    "### Algorithm 2.8"
   ]
  },
  {
   "cell_type": "code",
   "execution_count": 28,
   "id": "66b2458d-a18d-4e96-b341-197df9cdc2fb",
   "metadata": {},
   "outputs": [
    {
     "data": {
      "text/plain": [
       "'PyQt'"
      ]
     },
     "execution_count": 28,
     "metadata": {},
     "output_type": "execute_result"
    }
   ],
   "source": [
    "s1='PyQt'\n",
    "s1"
   ]
  },
  {
   "cell_type": "code",
   "execution_count": 29,
   "id": "815ad086-d248-4dd5-95e7-5c130cda3917",
   "metadata": {},
   "outputs": [
    {
     "data": {
      "text/plain": [
       "'Python'"
      ]
     },
     "execution_count": 29,
     "metadata": {},
     "output_type": "execute_result"
    }
   ],
   "source": [
    "s2=\"Python\"\n",
    "s2"
   ]
  },
  {
   "cell_type": "code",
   "execution_count": 30,
   "id": "24825192-e215-42bf-bc66-4f4fe6cacd2b",
   "metadata": {},
   "outputs": [
    {
     "data": {
      "text/plain": [
       "'Pemrograman GUI dengan Python dan PyQt'"
      ]
     },
     "execution_count": 30,
     "metadata": {},
     "output_type": "execute_result"
    }
   ],
   "source": [
    "s3='''Pemrograman GUI dengan Python dan PyQt'''\n",
    "s3='\\nPemrograman GUI\\ndengan Python dan PyQt\\n'\n",
    "s4=\"\"\"Pemrograman GUI dengan Python dan PyQt\"\"\"\n",
    "s4"
   ]
  },
  {
   "cell_type": "code",
   "execution_count": 31,
   "id": "a8a92372-29b5-4ac2-8993-4d0f0f7b8567",
   "metadata": {},
   "outputs": [
    {
     "data": {
      "text/plain": [
       "'python'"
      ]
     },
     "execution_count": 31,
     "metadata": {},
     "output_type": "execute_result"
    }
   ],
   "source": [
    "b='python'\n",
    "b"
   ]
  },
  {
   "cell_type": "code",
   "execution_count": 32,
   "id": "a95490cc-00e9-409f-a6ae-9daa30a3def5",
   "metadata": {},
   "outputs": [
    {
     "data": {
      "text/plain": [
       "'Python'"
      ]
     },
     "execution_count": 32,
     "metadata": {},
     "output_type": "execute_result"
    }
   ],
   "source": [
    "b=b.capitalize()\n",
    "b"
   ]
  },
  {
   "cell_type": "code",
   "execution_count": 33,
   "id": "0c9f58ed-d646-451d-a25f-82dea7a7f5ed",
   "metadata": {},
   "outputs": [
    {
     "data": {
      "text/plain": [
       "'PYTHON'"
      ]
     },
     "execution_count": 33,
     "metadata": {},
     "output_type": "execute_result"
    }
   ],
   "source": [
    "b=b.upper()\n",
    "b"
   ]
  },
  {
   "cell_type": "code",
   "execution_count": 34,
   "id": "5a13f236-700d-4cb7-bf81-b3b57295f471",
   "metadata": {},
   "outputs": [
    {
     "data": {
      "text/plain": [
       "'python'"
      ]
     },
     "execution_count": 34,
     "metadata": {},
     "output_type": "execute_result"
    }
   ],
   "source": [
    "b=b.lower()\n",
    "b"
   ]
  },
  {
   "cell_type": "code",
   "execution_count": 35,
   "id": "e63b2f32-ddae-4fbb-9399-e332ae090f6f",
   "metadata": {},
   "outputs": [
    {
     "data": {
      "text/plain": [
       "False"
      ]
     },
     "execution_count": 35,
     "metadata": {},
     "output_type": "execute_result"
    }
   ],
   "source": [
    "b.isupper()"
   ]
  },
  {
   "cell_type": "code",
   "execution_count": 36,
   "id": "d46b260c-8afc-43e2-a4e3-0556ef6d3c2a",
   "metadata": {},
   "outputs": [
    {
     "data": {
      "text/plain": [
       "True"
      ]
     },
     "execution_count": 36,
     "metadata": {},
     "output_type": "execute_result"
    }
   ],
   "source": [
    "b.islower()"
   ]
  },
  {
   "cell_type": "code",
   "execution_count": 37,
   "id": "77033a37-7d4e-4862-ae83-9f5118baf0aa",
   "metadata": {},
   "outputs": [
    {
     "data": {
      "text/plain": [
       "'saya makan ayam'"
      ]
     },
     "execution_count": 37,
     "metadata": {},
     "output_type": "execute_result"
    }
   ],
   "source": [
    "s=' '.join(['saya','makan','ayam'])\n",
    "s"
   ]
  },
  {
   "cell_type": "code",
   "execution_count": 38,
   "id": "bb991647-bf52-4088-ac34-f1e811cdaf40",
   "metadata": {},
   "outputs": [
    {
     "data": {
      "text/plain": [
       "True"
      ]
     },
     "execution_count": 38,
     "metadata": {},
     "output_type": "execute_result"
    }
   ],
   "source": [
    "nim='16610021'\n",
    "nim.isnumeric()"
   ]
  },
  {
   "cell_type": "code",
   "execution_count": 39,
   "id": "37ef08ce-be9e-4154-91cf-40053f21567e",
   "metadata": {},
   "outputs": [
    {
     "data": {
      "text/plain": [
       "False"
      ]
     },
     "execution_count": 39,
     "metadata": {},
     "output_type": "execute_result"
    }
   ],
   "source": [
    "nim='16610o21'\n",
    "nim.isnumeric()"
   ]
  }
 ],
 "metadata": {
  "kernelspec": {
   "display_name": "Python 3 (ipykernel)",
   "language": "python",
   "name": "python3"
  },
  "language_info": {
   "codemirror_mode": {
    "name": "ipython",
    "version": 3
   },
   "file_extension": ".py",
   "mimetype": "text/x-python",
   "name": "python",
   "nbconvert_exporter": "python",
   "pygments_lexer": "ipython3",
   "version": "3.9.7"
  }
 },
 "nbformat": 4,
 "nbformat_minor": 5
}

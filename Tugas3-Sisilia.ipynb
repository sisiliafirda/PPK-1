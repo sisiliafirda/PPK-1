{
 "cells": [
  {
   "cell_type": "code",
   "execution_count": 1,
   "id": "09871176-1072-4674-b681-e4c63bf73d90",
   "metadata": {},
   "outputs": [
    {
     "name": "stdin",
     "output_type": "stream",
     "text": [
      "Bilangan a:  2\n",
      "Bilangan b:  4\n"
     ]
    },
    {
     "name": "stdout",
     "output_type": "stream",
     "text": [
      "Mencetak Bilangan terbesar\n",
      "4\n"
     ]
    }
   ],
   "source": [
    "a=int(input(\"Bilangan a: \"))\n",
    "b=int(input(\"Bilangan b: \"))\n",
    "print(\"Mencetak Bilangan terbesar\")\n",
    "if a>b:\n",
    "    print(a)\n",
    "else:\n",
    "    print(b)"
   ]
  },
  {
   "cell_type": "code",
   "execution_count": 6,
   "id": "b8c6141d-b5bf-47ed-bd0b-9116f68dbcdb",
   "metadata": {},
   "outputs": [
    {
     "name": "stdout",
     "output_type": "stream",
     "text": [
      "Menghitung Nilai Akhir\n"
     ]
    },
    {
     "name": "stdin",
     "output_type": "stream",
     "text": [
      "Nilai UAS:  78\n",
      "Nilai UTS:  52\n",
      "Nilai Kuis:  50\n",
      "Nilai Tugas:  65\n"
     ]
    },
    {
     "name": "stdout",
     "output_type": "stream",
     "text": [
      "ANDA REMIDI!\n"
     ]
    }
   ],
   "source": [
    "print(\"Menghitung Nilai Akhir\")\n",
    "A=int(input(\"Nilai UAS: \"))\n",
    "B=int(input(\"Nilai UTS: \"))\n",
    "C=int(input(\"Nilai Kuis: \"))\n",
    "D=int(input(\"Nilai Tugas: \"))\n",
    "Nilaiakhir=(A*40+B*30+C*10+D*20)/100\n",
    "if Nilaiakhir == \"65\" or Nilaiakhir > 65:\n",
    "    print(\"SELAMAT ANDA LULUS!\")\n",
    "else:\n",
    "    print(\"ANDA REMIDI!\")"
   ]
  },
  {
   "cell_type": "code",
   "execution_count": 7,
   "id": "ab2c720c-bfcf-4a71-9c98-945169b9b7bc",
   "metadata": {},
   "outputs": [
    {
     "name": "stdout",
     "output_type": "stream",
     "text": [
      "Pilih Operasi.\n",
      "1.Jumlah\n",
      "2.Kurang\n",
      "3.Kali\n",
      "4.Bagi\n"
     ]
    },
    {
     "name": "stdin",
     "output_type": "stream",
     "text": [
      "Masukkan pilihan(1/2/3/4):  2\n"
     ]
    }
   ],
   "source": [
    "def add(x,y):\n",
    "    return x + y\n",
    "def subtract(x,y):\n",
    "    return x - y\n",
    "def multiply(x,y):\n",
    "    return x * y\n",
    "def divide (x,y):\n",
    "    return x / y\n",
    "print(\"Pilih Operasi.\")\n",
    "print(\"1.Jumlah\")\n",
    "print(\"2.Kurang\")\n",
    "print(\"3.Kali\")\n",
    "print(\"4.Bagi\")\n",
    "choice=input(\"Masukkan pilihan(1/2/3/4): \")\n",
    "num1=int(input(\"Masukkan bilangan pertama: \"))\n",
    "num2=int(input(\"Masukkan bilangan kedua: \"))\n",
    "if choice == '1':\n",
    "    print(num1,\"+\",num2,\"=\",add(num1,num2))\n",
    "elif choice == '2':\n",
    "    print(num1,\"-\",num2,\"=\",subtract(num1,num2))\n",
    "elif choice == '3':\n",
    "    print(num1,\"*\",num2,\"=\",multiply(num1,num2))\n",
    "elif choice == '4':\n",
    "    print(num1,\"/\",num2,\"=\",divide(num1,num2))\n",
    "else:\n",
    "    print(\"Input salah\")"
   ]
  }
 ],
 "metadata": {
  "kernelspec": {
   "display_name": "Python 3 (ipykernel)",
   "language": "python",
   "name": "python3"
  },
  "language_info": {
   "codemirror_mode": {
    "name": "ipython",
    "version": 3
   },
   "file_extension": ".py",
   "mimetype": "text/x-python",
   "name": "python",
   "nbconvert_exporter": "python",
   "pygments_lexer": "ipython3",
   "version": "3.9.7"
  }
 },
 "nbformat": 4,
 "nbformat_minor": 5
}

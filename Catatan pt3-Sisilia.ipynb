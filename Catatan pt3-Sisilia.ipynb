{
 "cells": [
  {
   "cell_type": "code",
   "execution_count": 2,
   "id": "89ccafb9-3842-4694-a048-70b1ce541246",
   "metadata": {},
   "outputs": [],
   "source": [
    "def kali(a,b):\n",
    "    c=a*b\n",
    "    return c # mengembalikan nilai ke baris pemanggil\n",
    "def tulis(s):\n",
    "    print(s)\n",
    "z=kali(10,5)\n",
    "z"
   ]
  },
  {
   "cell_type": "code",
   "execution_count": 3,
   "id": "0ae86417-2162-433f-8b13-58ee7a228c91",
   "metadata": {},
   "outputs": [
    {
     "name": "stdout",
     "output_type": "stream",
     "text": [
      "50\n"
     ]
    }
   ],
   "source": [
    "tulis(z)"
   ]
  },
  {
   "cell_type": "code",
   "execution_count": 4,
   "id": "3a685aaa-c6b4-43c8-bb25-21bbf0c0095e",
   "metadata": {},
   "outputs": [
    {
     "name": "stdout",
     "output_type": "stream",
     "text": [
      "Pemrograman Komputer I dengan Python\n"
     ]
    }
   ],
   "source": [
    "tulis('Pemrograman Komputer I dengan Python')"
   ]
  },
  {
   "cell_type": "code",
   "execution_count": 5,
   "id": "f7932bfc-8a49-4313-b927-4987230054b3",
   "metadata": {},
   "outputs": [
    {
     "data": {
      "text/plain": [
       "True"
      ]
     },
     "execution_count": 5,
     "metadata": {},
     "output_type": "execute_result"
    }
   ],
   "source": [
    "5 == 5"
   ]
  },
  {
   "cell_type": "code",
   "execution_count": 6,
   "id": "801883b7-7dd4-4428-9f02-f8f6a7c3d79f",
   "metadata": {},
   "outputs": [
    {
     "data": {
      "text/plain": [
       "True"
      ]
     },
     "execution_count": 6,
     "metadata": {},
     "output_type": "execute_result"
    }
   ],
   "source": [
    "a = 2\n",
    "b = 2\n",
    "\n",
    "a == b"
   ]
  },
  {
   "cell_type": "code",
   "execution_count": 7,
   "id": "0b53b1eb-b689-4c1f-a265-64b98a247e7f",
   "metadata": {},
   "outputs": [
    {
     "name": "stdin",
     "output_type": "stream",
     "text": [
      "Masukkan nilai Anda:  80\n"
     ]
    },
    {
     "name": "stdout",
     "output_type": "stream",
     "text": [
      "Anda lulus ujian! SELAMAT!\n"
     ]
    }
   ],
   "source": [
    "nilai = input(\"Masukkan nilai Anda: \")\n",
    "if int(nilai) >=70:\n",
    "    print(\"Anda lulus ujian! SELAMAT!\")"
   ]
  },
  {
   "cell_type": "code",
   "execution_count": 8,
   "id": "36a33f31-3584-44ae-a5cb-f1953f631cd5",
   "metadata": {},
   "outputs": [
    {
     "data": {
      "text/plain": [
       "False"
      ]
     },
     "execution_count": 8,
     "metadata": {},
     "output_type": "execute_result"
    }
   ],
   "source": [
    "5 == 6"
   ]
  },
  {
   "cell_type": "code",
   "execution_count": 9,
   "id": "f4b78b06-dae9-4b2e-a2b1-579eee775a7b",
   "metadata": {},
   "outputs": [
    {
     "name": "stdin",
     "output_type": "stream",
     "text": [
      "Masukkan nilai Anda:  60\n"
     ]
    },
    {
     "name": "stdout",
     "output_type": "stream",
     "text": [
      "Anda belum lulus ujian!\n"
     ]
    }
   ],
   "source": [
    "nilai = input(\"Masukkan nilai Anda: \")\n",
    "if int(nilai) >=70:\n",
    "    print(\"Anda lulus ujian! SELAMAT!\")\n",
    "else:\n",
    "    print(\"Anda belum lulus ujian!\")"
   ]
  },
  {
   "cell_type": "code",
   "execution_count": null,
   "id": "3e65fc1a-9f1f-47ac-966e-af9e4430e861",
   "metadata": {},
   "outputs": [],
   "source": [
    "nilai = input(\"Masukkan nilai Anda: \")\n",
    "if int(nilai) < 0 or int(nilai) > 100:\n",
    "    print(\"NilaI Anda Tidak valid\")\n",
    "elif int(nilai) >=70:\n",
    "    print(\"Anda lulus ujian! SELAMAT!\")\n",
    "else:\n",
    "    print(\"Anda belum lulus ujian!\")"
   ]
  }
 ],
 "metadata": {
  "kernelspec": {
   "display_name": "Python 3 (ipykernel)",
   "language": "python",
   "name": "python3"
  },
  "language_info": {
   "codemirror_mode": {
    "name": "ipython",
    "version": 3
   },
   "file_extension": ".py",
   "mimetype": "text/x-python",
   "name": "python",
   "nbconvert_exporter": "python",
   "pygments_lexer": "ipython3",
   "version": "3.9.7"
  }
 },
 "nbformat": 4,
 "nbformat_minor": 5
}

{
 "cells": [
  {
   "cell_type": "markdown",
   "id": "d39dc0aa-dbe4-4828-8895-a756d003fd0d",
   "metadata": {},
   "source": [
    "## Sisilia Firda Laila Akhadah/200601110060"
   ]
  },
  {
   "cell_type": "markdown",
   "id": "80b9b837-ae6d-481c-9570-34fc1d15ad8a",
   "metadata": {},
   "source": [
    "## TUGAS\n",
    "\n",
    "Silahkan buat 5 soal matematika beserta penyelesaiannya menggunakan bantuan sympy. Buat file .ipynb kemudian upload di github dan kumpulkan link nya di elearning."
   ]
  },
  {
   "cell_type": "code",
   "execution_count": 9,
   "id": "fe1a3c9f-727b-47a6-87de-142aba00f46e",
   "metadata": {},
   "outputs": [],
   "source": [
    "init_printing(use_unicode=True)"
   ]
  },
  {
   "cell_type": "code",
   "execution_count": 18,
   "id": "01f5c4f4-94cc-474e-8b1c-c2c506ab2474",
   "metadata": {},
   "outputs": [],
   "source": [
    "from sympy import *\n",
    "x, y, z, nu = symbols('x y z nu')"
   ]
  },
  {
   "cell_type": "code",
   "execution_count": 12,
   "id": "d458a6ec-cad7-4694-a105-b5bba72e711e",
   "metadata": {},
   "outputs": [
    {
     "data": {
      "image/png": "[encoded data removed]",
      "text/latex": [
       "$\\displaystyle 6 x^{2} + 9 x + 6$"
      ],
      "text/plain": [
       "   2          \n",
       "6⋅x  + 9⋅x + 6"
      ]
     },
     "execution_count": 12,
     "metadata": {},
     "output_type": "execute_result"
    }
   ],
   "source": [
    "a = (x + 2)**3\n",
    "b = x**3 + 3*x + 2\n",
    "simplify(a - b)"
   ]
  },
  {
   "cell_type": "code",
   "execution_count": 14,
   "id": "5f636092-a951-4220-a871-60d609531875",
   "metadata": {},
   "outputs": [
    {
     "data": {
      "image/png": "[encoded data removed]",
      "text/latex": [
       "$\\displaystyle \\left[ - \\sqrt{6}, \\  \\sqrt{6}\\right]$"
      ],
      "text/plain": [
       "[-√6, √6]"
      ]
     },
     "execution_count": 14,
     "metadata": {},
     "output_type": "execute_result"
    }
   ],
   "source": [
    "solve(x**2 - 6, x)"
   ]
  },
  {
   "cell_type": "code",
   "execution_count": 15,
   "id": "c360b9fc-58f5-465e-b932-1c5133c0ba9f",
   "metadata": {},
   "outputs": [
    {
     "data": {
      "image/png": "[encoded data removed]",
      "text/latex": [
       "$\\displaystyle - e^{x} \\sin{\\left(x \\right)} + e^{x} \\cos{\\left(x \\right)}$"
      ],
      "text/plain": [
       "   x           x       \n",
       "- ℯ ⋅sin(x) + ℯ ⋅cos(x)"
      ]
     },
     "execution_count": 15,
     "metadata": {},
     "output_type": "execute_result"
    }
   ],
   "source": [
    "diff(cos(x)*exp(x), x)"
   ]
  },
  {
   "cell_type": "code",
   "execution_count": 16,
   "id": "052f3d95-1695-4625-9b8d-1613f2af72de",
   "metadata": {},
   "outputs": [
    {
     "data": {
      "image/png": "[encoded data removed]",
      "text/latex": [
       "$\\displaystyle \\int\\limits_{-\\infty}^{\\infty} \\tan{\\left(x^{2} \\right)}\\, dx$"
      ],
      "text/plain": [
       "∞            \n",
       "⌠            \n",
       "⎮     ⎛ 2⎞   \n",
       "⎮  tan⎝x ⎠ dx\n",
       "⌡            \n",
       "-∞           "
      ]
     },
     "execution_count": 16,
     "metadata": {},
     "output_type": "execute_result"
    }
   ],
   "source": [
    "integrate(tan(x**2), (x, -oo, oo))"
   ]
  },
  {
   "cell_type": "code",
   "execution_count": 17,
   "id": "e09f1341-d3d7-461f-88a6-29933bd16b42",
   "metadata": {},
   "outputs": [
    {
     "data": {
      "image/png": "[encoded data removed]",
      "text/latex": [
       "$\\displaystyle 0$"
      ],
      "text/plain": [
       "0"
      ]
     },
     "execution_count": 17,
     "metadata": {},
     "output_type": "execute_result"
    }
   ],
   "source": [
    "limit(sin(x)/1, x, 0)"
   ]
  }
 ],
 "metadata": {
  "kernelspec": {
   "display_name": "Python 3 (ipykernel)",
   "language": "python",
   "name": "python3"
  },
  "language_info": {
   "codemirror_mode": {
    "name": "ipython",
    "version": 3
   },
   "file_extension": ".py",
   "mimetype": "text/x-python",
   "name": "python",
   "nbconvert_exporter": "python",
   "pygments_lexer": "ipython3",
   "version": "3.9.7"
  }
 },
 "nbformat": 4,
 "nbformat_minor": 5
}
